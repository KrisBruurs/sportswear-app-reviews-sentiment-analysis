{
 "cells": [
  {
   "cell_type": "code",
   "execution_count": 1,
   "id": "4a0be6ee-d7bf-4045-84f3-0e37fe528e35",
   "metadata": {},
   "outputs": [
    {
     "name": "stdout",
     "output_type": "stream",
     "text": [
      "Collecting google-play-scraper\n",
      "  Downloading google_play_scraper-1.2.7-py3-none-any.whl.metadata (50 kB)\n",
      "Requirement already satisfied: pandas in c:\\users\\krisb\\anaconda3\\lib\\site-packages (2.2.2)\n",
      "Requirement already satisfied: tqdm in c:\\users\\krisb\\anaconda3\\lib\\site-packages (4.66.5)\n",
      "Requirement already satisfied: numpy>=1.26.0 in c:\\users\\krisb\\anaconda3\\lib\\site-packages (from pandas) (1.26.4)\n",
      "Requirement already satisfied: python-dateutil>=2.8.2 in c:\\users\\krisb\\anaconda3\\lib\\site-packages (from pandas) (2.9.0.post0)\n",
      "Requirement already satisfied: pytz>=2020.1 in c:\\users\\krisb\\anaconda3\\lib\\site-packages (from pandas) (2024.1)\n",
      "Requirement already satisfied: tzdata>=2022.7 in c:\\users\\krisb\\anaconda3\\lib\\site-packages (from pandas) (2023.3)\n",
      "Requirement already satisfied: colorama in c:\\users\\krisb\\anaconda3\\lib\\site-packages (from tqdm) (0.4.6)\n",
      "Requirement already satisfied: six>=1.5 in c:\\users\\krisb\\anaconda3\\lib\\site-packages (from python-dateutil>=2.8.2->pandas) (1.16.0)\n",
      "Downloading google_play_scraper-1.2.7-py3-none-any.whl (28 kB)\n",
      "Installing collected packages: google-play-scraper\n",
      "Successfully installed google-play-scraper-1.2.7\n"
     ]
    }
   ],
   "source": [
    "# Install packages\n",
    "!pip install google-play-scraper pandas tqdm"
   ]
  },
  {
   "cell_type": "code",
   "execution_count": 3,
   "id": "ec8643bb-e89f-4166-8f7f-c38bf3e970a6",
   "metadata": {},
   "outputs": [],
   "source": [
    "# Import packages\n",
    "from google_play_scraper import reviews, Sort\n",
    "import pandas as pd\n",
    "from tqdm import tqdm\n",
    "from datetime import datetime\n",
    "import time"
   ]
  },
  {
   "cell_type": "code",
   "execution_count": 16,
   "id": "fce39b95-3693-4835-bdd9-6056cfaa7196",
   "metadata": {},
   "outputs": [],
   "source": [
    "# Create a dictionary with google playstore ID's\n",
    "apps = {\n",
    "    'nike':'com.nike.omega',\n",
    "    'adidas':'com.adidas.app',\n",
    "    'puma':'com.puma.ecom.app',\n",
    "    'gymshark':'com.gymshark.store'\n",
    "}"
   ]
  },
  {
   "cell_type": "code",
   "execution_count": 17,
   "id": "8f31a9db-4c99-45c7-8f7e-366b6245b7ae",
   "metadata": {},
   "outputs": [],
   "source": [
    "# Create function to fetch reviews\n",
    "def fetch_reviews(app_id, brand, lang='en', country='us', max_reviews = 1000, sleep = 3):\n",
    "    all_rows = []\n",
    "    token = None\n",
    "\n",
    "    while len(all_rows) < max_reviews:\n",
    "        batch, token = reviews(\n",
    "            app_id,\n",
    "            lang = lang,\n",
    "            country = country,\n",
    "            sort = Sort.NEWEST,\n",
    "            count = min(200, max_reviews - len(all_rows)),\n",
    "            continuation_token = token\n",
    "        )\n",
    "\n",
    "        for r in batch:\n",
    "            all_rows.append({\n",
    "                'brand':brand,\n",
    "                'review_id':r.get('reviewID'),\n",
    "                'score':r.get('score'),\n",
    "                'at':r.get('at'),\n",
    "                'content':r.get('content'),\n",
    "                'reply_content':r.get('replyContent'),\n",
    "                'thumbs_up':r.get('thumbsUpCount'),\n",
    "                'review_created_version':r.get('reviewCreatedVersion')\n",
    "            })\n",
    "\n",
    "        if token is None:\n",
    "            break\n",
    "        time.sleep(sleep)\n",
    "\n",
    "    return pd.DataFrame(all_rows)"
   ]
  },
  {
   "cell_type": "code",
   "execution_count": null,
   "id": "685ae15b-aa25-487c-81e3-64fba56a2bf2",
   "metadata": {},
   "outputs": [
    {
     "name": "stdout",
     "output_type": "stream",
     "text": [
      "Fetching: nike (com.nike.omega)\n",
      "Fetching: adidas (com.adidas.app)\n",
      "Fetching: puma (com.puma.ecom.app)\n",
      "Fetching: gymshark (com.gymshark.store)\n"
     ]
    }
   ],
   "source": [
    "frames = []\n",
    "for brand, pkg in apps.items():\n",
    "    print(f'Fetching: {brand} ({pkg})')\n",
    "    df = fetch_reviews(pkg, brand, max_reviews = 1000)\n",
    "    frames.append(df)\n",
    "\n",
    "reviews_df = pd.concat(frames, ignore_index=True)"
   ]
  },
  {
   "cell_type": "code",
   "execution_count": null,
   "id": "f38ee3a7-2cf5-4fb2-b531-a660c254e0dc",
   "metadata": {},
   "outputs": [],
   "source": []
  },
  {
   "cell_type": "code",
   "execution_count": null,
   "id": "9c759244-9b01-423d-8f69-a2a75587d241",
   "metadata": {},
   "outputs": [],
   "source": []
  },
  {
   "cell_type": "code",
   "execution_count": null,
   "id": "6bbd3322-4e6e-4d60-9d05-fb6b18bfb7e1",
   "metadata": {},
   "outputs": [],
   "source": []
  }
 ],
 "metadata": {
  "kernelspec": {
   "display_name": "Python 3 (ipykernel)",
   "language": "python",
   "name": "python3"
  },
  "language_info": {
   "codemirror_mode": {
    "name": "ipython",
    "version": 3
   },
   "file_extension": ".py",
   "mimetype": "text/x-python",
   "name": "python",
   "nbconvert_exporter": "python",
   "pygments_lexer": "ipython3",
   "version": "3.12.7"
  }
 },
 "nbformat": 4,
 "nbformat_minor": 5
}
